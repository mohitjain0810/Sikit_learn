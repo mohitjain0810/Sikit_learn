{
  "nbformat": 4,
  "nbformat_minor": 0,
  "metadata": {
    "colab": {
      "provenance": []
    },
    "kernelspec": {
      "name": "python3",
      "display_name": "Python 3"
    },
    "language_info": {
      "name": "python"
    }
  },
  "cells": [
    {
      "cell_type": "markdown",
      "source": [
        "**🎯 What is Ordinal Encoding?**\n",
        "\n",
        "Ordinal Encoding converts categorical data (text/labels) into numerical values, where categories are assigned integers based on order. It’s useful for features where the order or ranking of categories matters."
      ],
      "metadata": {
        "id": "pxrYO6FAu74L"
      }
    },
    {
      "cell_type": "markdown",
      "source": [
        "⚡️ How it works:\n",
        "\n",
        "Each unique category is mapped to an integer."
      ],
      "metadata": {
        "id": "5vH_EiL2vBFo"
      }
    },
    {
      "cell_type": "markdown",
      "source": [
        "Example:\n"
      ],
      "metadata": {
        "id": "kwpnIgaFvEPi"
      }
    },
    {
      "cell_type": "code",
      "source": [
        "# [\"Low\", \"Medium\", \"High\"] → [0, 1, 2]"
      ],
      "metadata": {
        "id": "sbHboOJOvAhH"
      },
      "execution_count": null,
      "outputs": []
    },
    {
      "cell_type": "markdown",
      "source": [
        "Important: Use this only when the order of categories is meaningful.\n",
        "\n"
      ],
      "metadata": {
        "id": "ZhmIW3p0vLna"
      }
    },
    {
      "cell_type": "code",
      "source": [
        "# Import necessary libraries\n",
        "import numpy as np\n",
        "import pandas as pd\n",
        "from sklearn.preprocessing import OrdinalEncoder\n",
        "\n",
        "# Sample dataset with categorical columns\n",
        "data = {'Size': ['Small', 'Medium', 'Large', 'Medium', 'Small', 'Large'],\n",
        "        'Quality': ['Low', 'Medium', 'High', 'Low', 'High', 'Medium']}\n",
        "\n",
        "# Create a DataFrame\n",
        "df = pd.DataFrame(data)\n",
        "\n",
        "# Display original data\n",
        "print(\"Original Data:\\n\", df)\n",
        "\n",
        "# ================================\n",
        "# Apply Ordinal Encoding\n",
        "# ================================\n",
        "# Create an instance of OrdinalEncoder\n",
        "encoder = OrdinalEncoder()\n",
        "\n",
        "# Fit and transform the data\n",
        "df_encoded = pd.DataFrame(encoder.fit_transform(df), columns=df.columns)\n",
        "\n",
        "# Display encoded data\n",
        "print(\"\\nEncoded Data:\\n\", df_encoded)\n",
        "\n",
        "# ================================\n",
        "# Define custom order for encoding\n",
        "# ================================\n",
        "# Define custom categories order\n",
        "custom_order = [['Small', 'Medium', 'Large'],  # Size order\n",
        "                ['Low', 'Medium', 'High']]    # Quality order\n",
        "\n",
        "# Create another encoder with custom order\n",
        "encoder_custom = OrdinalEncoder(categories=custom_order)\n",
        "\n",
        "# Apply the custom encoding\n",
        "df_custom_encoded = pd.DataFrame(encoder_custom.fit_transform(df), columns=df.columns)\n",
        "\n",
        "# Display custom encoded data\n",
        "print(\"\\nCustom Encoded Data:\\n\", df_custom_encoded)"
      ],
      "metadata": {
        "colab": {
          "base_uri": "https://localhost:8080/"
        },
        "id": "_mg01-4evLSd",
        "outputId": "af9ced5d-988e-472d-a784-76fb5e733b0c"
      },
      "execution_count": 2,
      "outputs": [
        {
          "output_type": "stream",
          "name": "stdout",
          "text": [
            "Original Data:\n",
            "      Size Quality\n",
            "0   Small     Low\n",
            "1  Medium  Medium\n",
            "2   Large    High\n",
            "3  Medium     Low\n",
            "4   Small    High\n",
            "5   Large  Medium\n",
            "\n",
            "Encoded Data:\n",
            "    Size  Quality\n",
            "0   2.0      1.0\n",
            "1   1.0      2.0\n",
            "2   0.0      0.0\n",
            "3   1.0      1.0\n",
            "4   2.0      0.0\n",
            "5   0.0      2.0\n",
            "\n",
            "Custom Encoded Data:\n",
            "    Size  Quality\n",
            "0   0.0      0.0\n",
            "1   1.0      1.0\n",
            "2   2.0      2.0\n",
            "3   1.0      0.0\n",
            "4   0.0      2.0\n",
            "5   2.0      1.0\n"
          ]
        }
      ]
    },
    {
      "cell_type": "markdown",
      "source": [
        "📊 Explanation:\n",
        "Original Data: Contains categorical columns Size and Quality.\n",
        "\n",
        "Encoding:\n",
        "\n",
        "OrdinalEncoder() automatically encodes labels.\n",
        "\n",
        "Default encoding assigns integers starting from 0.\n",
        "\n",
        "Custom Encoding:\n",
        "\n",
        "You can specify a custom order using categories.\n",
        "\n",
        "Ensures that encoding respects the natural order."
      ],
      "metadata": {
        "id": "CNu5kP3CvcFB"
      }
    }
  ]
}